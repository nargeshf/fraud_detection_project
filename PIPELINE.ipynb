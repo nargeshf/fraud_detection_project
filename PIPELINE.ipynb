{
 "metadata": {
  "kernelspec": {
   "display_name": "Streamlit Notebook",
   "name": "streamlit"
  },
  "lastEditStatus": {
   "notebookId": "trizfvbx2ibsmj6mhozm",
   "authorId": "6978285136533",
   "authorName": "N2",
   "authorEmail": "narcissa.hf@gmail.com",
   "sessionId": "2d7bde40-e27f-4544-ad79-f77d5940dd64",
   "lastEditTime": 1739485962984
  }
 },
 "nbformat_minor": 5,
 "nbformat": 4,
 "cells": [
  {
   "cell_type": "code",
   "id": "3775908f-ca36-4846-8f38-5adca39217f2",
   "metadata": {
    "language": "python",
    "name": "cell1",
    "collapsed": false
   },
   "source": "\nfrom snowflake.snowpark import Session\nfrom snowflake.snowpark.functions import col, length, lit, concat, to_timestamp\nfrom snowflake.snowpark.types import (\n    StructType, StructField, IntegerType, DoubleType, StringType, \n    TimestampType, DateType, LongType, FloatType\n)\nfrom snowflake.snowpark import functions as F\nfrom snowflake.snowpark.window import Window\n\n\nfrom snowflake.snowpark.context import get_active_session\nsession = get_active_session()\n",
   "execution_count": null,
   "outputs": []
  },
  {
   "cell_type": "code",
   "id": "7f5633f2-6128-42f6-b5c3-82c58abd7fcd",
   "metadata": {
    "language": "python",
    "name": "cell5",
    "collapsed": false
   },
   "outputs": [],
   "source": "\nsession.use_warehouse(\"COMPUTE_WH\")\ncustomers_csv_file = \"@MY_GCS_STAGE/customers.csv\"\n\n\ndf = session.read.option(\"FIELD_OPTIONALLY_ENCLOSED_BY\", '\"').option(\"FIELD_DELIMITER\", ',').option(\"SKIP_HEADER\", 1).csv(customers_csv_file)\ndf.printSchema()",
   "execution_count": null
  },
  {
   "cell_type": "markdown",
   "id": "1e2d8381-4973-4cff-9156-7ffa5c678c63",
   "metadata": {
    "name": "cell8",
    "collapsed": false
   },
   "source": "Data Type Transformations"
  },
  {
   "cell_type": "code",
   "id": "1bb1af3f-777b-40bc-aaa0-e075008e8e05",
   "metadata": {
    "language": "python",
    "name": "cell2",
    "collapsed": false,
    "codeCollapsed": false
   },
   "outputs": [],
   "source": "# Defining schema\nschema = StructType([\n    StructField(\"ssn\", StringType(), True),\n    StructField(\"cc_num\", StringType(), True),\n    StructField(\"first\", StringType(), True),\n    StructField(\"last\", StringType(), True),\n    StructField(\"gender\", StringType(), True),\n    StructField(\"street\", StringType(), True),\n    StructField(\"city\", StringType(), True),\n    StructField(\"state\", StringType(), True),\n    StructField(\"zip\", StringType(), True),\n    StructField(\"lat\", FloatType(), True),\n    StructField(\"long\", FloatType(), True),\n    StructField(\"city_pop\", LongType(), True),\n    StructField(\"job\", StringType(), True),\n    StructField(\"dob\", DateType(), True),\n    StructField(\"acct_num\", StringType(), True),\n    StructField(\"profile\", StringType(), True)\n])\n\n\ndf = session.read.options({\n    \"FIELD_OPTIONALLY_ENCLOSED_BY\": '\"',\n    \"SKIP_HEADER\": 1,\n    \"FIELD_DELIMITER\" : ','\n}).schema(schema).csv(customers_csv_file)\n\ndf.printSchema()\n\n\ndf.show(5)\n",
   "execution_count": null
  },
  {
   "cell_type": "code",
   "id": "a7b372a2-57ed-41c5-afc0-959eaf498c22",
   "metadata": {
    "language": "python",
    "name": "cell3",
    "collapsed": false
   },
   "outputs": [],
   "source": "df.count()",
   "execution_count": null
  },
  {
   "cell_type": "markdown",
   "id": "049be006-11d0-4c8b-9995-c147ac608f7d",
   "metadata": {
    "name": "cell11",
    "collapsed": false
   },
   "source": "Duplicate Check"
  },
  {
   "cell_type": "code",
   "id": "2b312089-e626-4a57-a8fe-46c6ba75bb0b",
   "metadata": {
    "language": "python",
    "name": "cell12",
    "collapsed": false
   },
   "outputs": [],
   "source": "partition = Window.partition_by(*df.columns)\n\nduplicates = df.select(\"*\", F.count(\"*\").over(partition).alias(\"duplicate_records\")) \\\n                .filter(F.col(\"duplicate_records\") > 1)\n\nduplicates.show()",
   "execution_count": null
  },
  {
   "cell_type": "markdown",
   "id": "168561cd-5213-42dd-9dbf-1a1afca14668",
   "metadata": {
    "name": "cell9",
    "collapsed": false
   },
   "source": "Completeness Check"
  },
  {
   "cell_type": "code",
   "id": "1cac5d94-1769-4279-9c31-944888402daf",
   "metadata": {
    "language": "python",
    "name": "cell13",
    "collapsed": false
   },
   "outputs": [],
   "source": "total_rows = df.count()\ncompleteness_check = df.select(\n    *[\n        (F.count(F.when(F.col(c).isNull(), 1)) / total_rows).alias(f\"{c}_null_ratio\")\n        for c in df.columns\n    ]\n)\n\ncompleteness_check.show()",
   "execution_count": null
  },
  {
   "cell_type": "markdown",
   "id": "3cd8d39e-24d3-45c4-8a32-cb2deb65513c",
   "metadata": {
    "name": "cell6",
    "collapsed": false
   },
   "source": "Length Checks"
  },
  {
   "cell_type": "code",
   "id": "221e4505-c909-4b70-b8e5-6bc35edfff63",
   "metadata": {
    "language": "python",
    "name": "cell4",
    "collapsed": false
   },
   "outputs": [],
   "source": "def length_check(df, col_name, required_length=None, min_length=None, max_length=None):\n    if required_length:\n        return df.filter(length(col(col_name)) == required_length)\n    elif min_length is not None and max_length is not None:\n        return df.filter(length(col(col_name)).between(min_length, max_length))\n    else:\n        return df\n\ndf_new = length_check(df, 'cc_num', required_length=16)\ndf_new = length_check(df_new, 'ssn', required_length=11)\ndf_new = length_check(df_new, 'acct_num', min_length=8, max_length=12)\n\ndf_new.show(5)\n",
   "execution_count": null
  },
  {
   "cell_type": "code",
   "id": "5a10a291-5305-4547-9944-4281e483f9ed",
   "metadata": {
    "language": "python",
    "name": "cell7",
    "collapsed": false
   },
   "outputs": [],
   "source": "df_new.count()",
   "execution_count": null
  },
  {
   "cell_type": "code",
   "id": "b57c45c6-8371-4abf-ba2b-0cb4228ac98f",
   "metadata": {
    "language": "python",
    "name": "cell10",
    "collapsed": false
   },
   "outputs": [],
   "source": "\ndf_new.write.mode(\"append\").save_as_table(\"CUSTOMERS_INTERNAL\")\n\n",
   "execution_count": null
  }
 ]
}